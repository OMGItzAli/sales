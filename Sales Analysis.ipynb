{
 "cells": [
  {
   "cell_type": "markdown",
   "id": "c7cfba46",
   "metadata": {},
   "source": [
    "## Target: \n",
    "- A target market analysis is an assessment of how your product or service fits into a specific market and where it will gain the most.\n",
    "\n",
    "## Task:\n",
    "- Q1: What was the best Year for sales? How much was earned that Year?\n",
    "- Q2: What was the best month for sales? How much was earned that month?\n",
    "- Q3: What City had the highest number of sales?\n",
    "- Q4: What time should we display adverstisement to maximize likelihood of customer's buying product?\n",
    "- Q5: What products are most often sold together?\n",
    "- Q6: What product sold the most? Why do you think it sold the most?\n",
    "\n",
    "## How Much Probability?\n",
    "- Q1: How much probability for next people will ordered USB-C Charging Cable?\n",
    "- Q2: How much probability for next people will ordered iPhone?\n",
    "- Q3: How much probability for next people will ordered Google Phone?\n",
    "- Q4: How much probability other peoples will ordered Wired Headphones?"
   ]
  },
  {
   "cell_type": "code",
   "execution_count": 88,
   "id": "36326cf1",
   "metadata": {},
   "outputs": [],
   "source": [
    "import pandas as pd \n",
    "import numpy as np \n",
    "import seaborn as sns\n",
    "import glob\n",
    "import warnings\n",
    "warnings.filterwarnings('ignore')"
   ]
  },
  {
   "cell_type": "code",
   "execution_count": 2,
   "id": "ebbf24e4",
   "metadata": {},
   "outputs": [],
   "source": [
    "df = pd.read_csv('Data/Sales_April_2019.csv')"
   ]
  },
  {
   "cell_type": "markdown",
   "id": "d0afacdc",
   "metadata": {},
   "source": [
    "### Data Preprocessing \n",
    "   - we have sales data for each month in a different csv file, so I will merge the data into one csv file"
   ]
  },
  {
   "cell_type": "markdown",
   "id": "8870f08d",
   "metadata": {},
   "source": [
    "#### Merge Data"
   ]
  },
  {
   "cell_type": "code",
   "execution_count": 3,
   "id": "e6c807fd",
   "metadata": {},
   "outputs": [],
   "source": [
    "# Get a list of all csv files in the data directory\n",
    "all_files = glob.glob(\"data/Sales_*.csv\")"
   ]
  },
  {
   "cell_type": "code",
   "execution_count": 4,
   "id": "de5e7490",
   "metadata": {},
   "outputs": [],
   "source": [
    "# Create a list of dataframes by reading each csv file using pd.read_csv()\n",
    "dfs = [pd.read_csv(f) for f in all_files]"
   ]
  },
  {
   "cell_type": "code",
   "execution_count": 5,
   "id": "e9b9bfdf",
   "metadata": {},
   "outputs": [],
   "source": [
    "# Concatenate all the dataframes into a single dataframe using pd.concat()\n",
    "sales_data = pd.concat(dfs, ignore_index=True)"
   ]
  },
  {
   "cell_type": "code",
   "execution_count": 6,
   "id": "0fe1c23a",
   "metadata": {},
   "outputs": [
    {
     "data": {
      "text/html": [
       "<div>\n",
       "<style scoped>\n",
       "    .dataframe tbody tr th:only-of-type {\n",
       "        vertical-align: middle;\n",
       "    }\n",
       "\n",
       "    .dataframe tbody tr th {\n",
       "        vertical-align: top;\n",
       "    }\n",
       "\n",
       "    .dataframe thead th {\n",
       "        text-align: right;\n",
       "    }\n",
       "</style>\n",
       "<table border=\"1\" class=\"dataframe\">\n",
       "  <thead>\n",
       "    <tr style=\"text-align: right;\">\n",
       "      <th></th>\n",
       "      <th>Order ID</th>\n",
       "      <th>Product</th>\n",
       "      <th>Quantity Ordered</th>\n",
       "      <th>Price Each</th>\n",
       "      <th>Order Date</th>\n",
       "      <th>Purchase Address</th>\n",
       "    </tr>\n",
       "  </thead>\n",
       "  <tbody>\n",
       "    <tr>\n",
       "      <th>0</th>\n",
       "      <td>295665</td>\n",
       "      <td>Macbook Pro Laptop</td>\n",
       "      <td>1</td>\n",
       "      <td>1700</td>\n",
       "      <td>12/30/19 00:01</td>\n",
       "      <td>136 Church St, New York City, NY 10001</td>\n",
       "    </tr>\n",
       "    <tr>\n",
       "      <th>1</th>\n",
       "      <td>295666</td>\n",
       "      <td>LG Washing Machine</td>\n",
       "      <td>1</td>\n",
       "      <td>600.0</td>\n",
       "      <td>12/29/19 07:03</td>\n",
       "      <td>562 2nd St, New York City, NY 10001</td>\n",
       "    </tr>\n",
       "    <tr>\n",
       "      <th>2</th>\n",
       "      <td>295667</td>\n",
       "      <td>USB-C Charging Cable</td>\n",
       "      <td>1</td>\n",
       "      <td>11.95</td>\n",
       "      <td>12/12/19 18:21</td>\n",
       "      <td>277 Main St, New York City, NY 10001</td>\n",
       "    </tr>\n",
       "    <tr>\n",
       "      <th>3</th>\n",
       "      <td>295668</td>\n",
       "      <td>27in FHD Monitor</td>\n",
       "      <td>1</td>\n",
       "      <td>149.99</td>\n",
       "      <td>12/22/19 15:13</td>\n",
       "      <td>410 6th St, San Francisco, CA 94016</td>\n",
       "    </tr>\n",
       "    <tr>\n",
       "      <th>4</th>\n",
       "      <td>295669</td>\n",
       "      <td>USB-C Charging Cable</td>\n",
       "      <td>1</td>\n",
       "      <td>11.95</td>\n",
       "      <td>12/18/19 12:38</td>\n",
       "      <td>43 Hill St, Atlanta, GA 30301</td>\n",
       "    </tr>\n",
       "    <tr>\n",
       "      <th>...</th>\n",
       "      <td>...</td>\n",
       "      <td>...</td>\n",
       "      <td>...</td>\n",
       "      <td>...</td>\n",
       "      <td>...</td>\n",
       "      <td>...</td>\n",
       "    </tr>\n",
       "    <tr>\n",
       "      <th>186845</th>\n",
       "      <td>222905</td>\n",
       "      <td>AAA Batteries (4-pack)</td>\n",
       "      <td>1</td>\n",
       "      <td>2.99</td>\n",
       "      <td>06/07/19 19:02</td>\n",
       "      <td>795 Pine St, Boston, MA 02215</td>\n",
       "    </tr>\n",
       "    <tr>\n",
       "      <th>186846</th>\n",
       "      <td>222906</td>\n",
       "      <td>27in FHD Monitor</td>\n",
       "      <td>1</td>\n",
       "      <td>149.99</td>\n",
       "      <td>06/01/19 19:29</td>\n",
       "      <td>495 North St, New York City, NY 10001</td>\n",
       "    </tr>\n",
       "    <tr>\n",
       "      <th>186847</th>\n",
       "      <td>222907</td>\n",
       "      <td>USB-C Charging Cable</td>\n",
       "      <td>1</td>\n",
       "      <td>11.95</td>\n",
       "      <td>06/22/19 18:57</td>\n",
       "      <td>319 Ridge St, San Francisco, CA 94016</td>\n",
       "    </tr>\n",
       "    <tr>\n",
       "      <th>186848</th>\n",
       "      <td>222908</td>\n",
       "      <td>USB-C Charging Cable</td>\n",
       "      <td>1</td>\n",
       "      <td>11.95</td>\n",
       "      <td>06/26/19 18:35</td>\n",
       "      <td>916 Main St, San Francisco, CA 94016</td>\n",
       "    </tr>\n",
       "    <tr>\n",
       "      <th>186849</th>\n",
       "      <td>222909</td>\n",
       "      <td>AAA Batteries (4-pack)</td>\n",
       "      <td>1</td>\n",
       "      <td>2.99</td>\n",
       "      <td>06/25/19 14:33</td>\n",
       "      <td>209 11th St, Atlanta, GA 30301</td>\n",
       "    </tr>\n",
       "  </tbody>\n",
       "</table>\n",
       "<p>186850 rows × 6 columns</p>\n",
       "</div>"
      ],
      "text/plain": [
       "       Order ID                 Product Quantity Ordered Price Each  \\\n",
       "0        295665      Macbook Pro Laptop                1       1700   \n",
       "1        295666      LG Washing Machine                1      600.0   \n",
       "2        295667    USB-C Charging Cable                1      11.95   \n",
       "3        295668        27in FHD Monitor                1     149.99   \n",
       "4        295669    USB-C Charging Cable                1      11.95   \n",
       "...         ...                     ...              ...        ...   \n",
       "186845   222905  AAA Batteries (4-pack)                1       2.99   \n",
       "186846   222906        27in FHD Monitor                1     149.99   \n",
       "186847   222907    USB-C Charging Cable                1      11.95   \n",
       "186848   222908    USB-C Charging Cable                1      11.95   \n",
       "186849   222909  AAA Batteries (4-pack)                1       2.99   \n",
       "\n",
       "            Order Date                        Purchase Address  \n",
       "0       12/30/19 00:01  136 Church St, New York City, NY 10001  \n",
       "1       12/29/19 07:03     562 2nd St, New York City, NY 10001  \n",
       "2       12/12/19 18:21    277 Main St, New York City, NY 10001  \n",
       "3       12/22/19 15:13     410 6th St, San Francisco, CA 94016  \n",
       "4       12/18/19 12:38           43 Hill St, Atlanta, GA 30301  \n",
       "...                ...                                     ...  \n",
       "186845  06/07/19 19:02           795 Pine St, Boston, MA 02215  \n",
       "186846  06/01/19 19:29   495 North St, New York City, NY 10001  \n",
       "186847  06/22/19 18:57   319 Ridge St, San Francisco, CA 94016  \n",
       "186848  06/26/19 18:35    916 Main St, San Francisco, CA 94016  \n",
       "186849  06/25/19 14:33          209 11th St, Atlanta, GA 30301  \n",
       "\n",
       "[186850 rows x 6 columns]"
      ]
     },
     "execution_count": 6,
     "metadata": {},
     "output_type": "execute_result"
    }
   ],
   "source": [
    "sales_data"
   ]
  },
  {
   "cell_type": "markdown",
   "id": "ad14c2fb",
   "metadata": {},
   "source": [
    "### Check Data\n",
    "    - Missing values \n",
    "    - Duplicated values\n",
    "    - Check if data types are in correct format"
   ]
  },
  {
   "cell_type": "markdown",
   "id": "eee6c476",
   "metadata": {},
   "source": [
    "#### Missing Values"
   ]
  },
  {
   "cell_type": "code",
   "execution_count": 7,
   "id": "51446c1e",
   "metadata": {},
   "outputs": [],
   "source": [
    "missing_values = sales_data.isnull().sum()"
   ]
  },
  {
   "cell_type": "code",
   "execution_count": 8,
   "id": "580249dc",
   "metadata": {},
   "outputs": [
    {
     "data": {
      "text/plain": [
       "Order ID            545\n",
       "Product             545\n",
       "Quantity Ordered    545\n",
       "Price Each          545\n",
       "Order Date          545\n",
       "Purchase Address    545\n",
       "dtype: int64"
      ]
     },
     "execution_count": 8,
     "metadata": {},
     "output_type": "execute_result"
    }
   ],
   "source": [
    "missing_values"
   ]
  },
  {
   "cell_type": "code",
   "execution_count": 9,
   "id": "c2563548",
   "metadata": {},
   "outputs": [
    {
     "name": "stdout",
     "output_type": "stream",
     "text": [
      "     Order ID Product Quantity Ordered Price Each Order Date Purchase Address\n",
      "264       NaN     NaN              NaN        NaN        NaN              NaN\n",
      "648       NaN     NaN              NaN        NaN        NaN              NaN\n",
      "680       NaN     NaN              NaN        NaN        NaN              NaN\n",
      "1385      NaN     NaN              NaN        NaN        NaN              NaN\n",
      "1495      NaN     NaN              NaN        NaN        NaN              NaN\n"
     ]
    }
   ],
   "source": [
    "# Filter the dataset based on the missing values mask\n",
    "missing_data = sales_data[sales_data.isnull().any(axis=1)]\n",
    "print(missing_data.head())"
   ]
  },
  {
   "cell_type": "code",
   "execution_count": 10,
   "id": "15689c25",
   "metadata": {},
   "outputs": [
    {
     "data": {
      "text/html": [
       "<div>\n",
       "<style scoped>\n",
       "    .dataframe tbody tr th:only-of-type {\n",
       "        vertical-align: middle;\n",
       "    }\n",
       "\n",
       "    .dataframe tbody tr th {\n",
       "        vertical-align: top;\n",
       "    }\n",
       "\n",
       "    .dataframe thead th {\n",
       "        text-align: right;\n",
       "    }\n",
       "</style>\n",
       "<table border=\"1\" class=\"dataframe\">\n",
       "  <thead>\n",
       "    <tr style=\"text-align: right;\">\n",
       "      <th></th>\n",
       "      <th>Order ID</th>\n",
       "      <th>Product</th>\n",
       "      <th>Quantity Ordered</th>\n",
       "      <th>Price Each</th>\n",
       "      <th>Order Date</th>\n",
       "      <th>Purchase Address</th>\n",
       "    </tr>\n",
       "  </thead>\n",
       "  <tbody>\n",
       "    <tr>\n",
       "      <th>264</th>\n",
       "      <td>NaN</td>\n",
       "      <td>NaN</td>\n",
       "      <td>NaN</td>\n",
       "      <td>NaN</td>\n",
       "      <td>NaN</td>\n",
       "      <td>NaN</td>\n",
       "    </tr>\n",
       "    <tr>\n",
       "      <th>648</th>\n",
       "      <td>NaN</td>\n",
       "      <td>NaN</td>\n",
       "      <td>NaN</td>\n",
       "      <td>NaN</td>\n",
       "      <td>NaN</td>\n",
       "      <td>NaN</td>\n",
       "    </tr>\n",
       "    <tr>\n",
       "      <th>680</th>\n",
       "      <td>NaN</td>\n",
       "      <td>NaN</td>\n",
       "      <td>NaN</td>\n",
       "      <td>NaN</td>\n",
       "      <td>NaN</td>\n",
       "      <td>NaN</td>\n",
       "    </tr>\n",
       "    <tr>\n",
       "      <th>1385</th>\n",
       "      <td>NaN</td>\n",
       "      <td>NaN</td>\n",
       "      <td>NaN</td>\n",
       "      <td>NaN</td>\n",
       "      <td>NaN</td>\n",
       "      <td>NaN</td>\n",
       "    </tr>\n",
       "    <tr>\n",
       "      <th>1495</th>\n",
       "      <td>NaN</td>\n",
       "      <td>NaN</td>\n",
       "      <td>NaN</td>\n",
       "      <td>NaN</td>\n",
       "      <td>NaN</td>\n",
       "      <td>NaN</td>\n",
       "    </tr>\n",
       "    <tr>\n",
       "      <th>...</th>\n",
       "      <td>...</td>\n",
       "      <td>...</td>\n",
       "      <td>...</td>\n",
       "      <td>...</td>\n",
       "      <td>...</td>\n",
       "      <td>...</td>\n",
       "    </tr>\n",
       "    <tr>\n",
       "      <th>185795</th>\n",
       "      <td>NaN</td>\n",
       "      <td>NaN</td>\n",
       "      <td>NaN</td>\n",
       "      <td>NaN</td>\n",
       "      <td>NaN</td>\n",
       "      <td>NaN</td>\n",
       "    </tr>\n",
       "    <tr>\n",
       "      <th>185868</th>\n",
       "      <td>NaN</td>\n",
       "      <td>NaN</td>\n",
       "      <td>NaN</td>\n",
       "      <td>NaN</td>\n",
       "      <td>NaN</td>\n",
       "      <td>NaN</td>\n",
       "    </tr>\n",
       "    <tr>\n",
       "      <th>185887</th>\n",
       "      <td>NaN</td>\n",
       "      <td>NaN</td>\n",
       "      <td>NaN</td>\n",
       "      <td>NaN</td>\n",
       "      <td>NaN</td>\n",
       "      <td>NaN</td>\n",
       "    </tr>\n",
       "    <tr>\n",
       "      <th>185960</th>\n",
       "      <td>NaN</td>\n",
       "      <td>NaN</td>\n",
       "      <td>NaN</td>\n",
       "      <td>NaN</td>\n",
       "      <td>NaN</td>\n",
       "      <td>NaN</td>\n",
       "    </tr>\n",
       "    <tr>\n",
       "      <th>186580</th>\n",
       "      <td>NaN</td>\n",
       "      <td>NaN</td>\n",
       "      <td>NaN</td>\n",
       "      <td>NaN</td>\n",
       "      <td>NaN</td>\n",
       "      <td>NaN</td>\n",
       "    </tr>\n",
       "  </tbody>\n",
       "</table>\n",
       "<p>545 rows × 6 columns</p>\n",
       "</div>"
      ],
      "text/plain": [
       "       Order ID Product Quantity Ordered Price Each Order Date  \\\n",
       "264         NaN     NaN              NaN        NaN        NaN   \n",
       "648         NaN     NaN              NaN        NaN        NaN   \n",
       "680         NaN     NaN              NaN        NaN        NaN   \n",
       "1385        NaN     NaN              NaN        NaN        NaN   \n",
       "1495        NaN     NaN              NaN        NaN        NaN   \n",
       "...         ...     ...              ...        ...        ...   \n",
       "185795      NaN     NaN              NaN        NaN        NaN   \n",
       "185868      NaN     NaN              NaN        NaN        NaN   \n",
       "185887      NaN     NaN              NaN        NaN        NaN   \n",
       "185960      NaN     NaN              NaN        NaN        NaN   \n",
       "186580      NaN     NaN              NaN        NaN        NaN   \n",
       "\n",
       "       Purchase Address  \n",
       "264                 NaN  \n",
       "648                 NaN  \n",
       "680                 NaN  \n",
       "1385                NaN  \n",
       "1495                NaN  \n",
       "...                 ...  \n",
       "185795              NaN  \n",
       "185868              NaN  \n",
       "185887              NaN  \n",
       "185960              NaN  \n",
       "186580              NaN  \n",
       "\n",
       "[545 rows x 6 columns]"
      ]
     },
     "execution_count": 10,
     "metadata": {},
     "output_type": "execute_result"
    }
   ],
   "source": [
    "missing_data"
   ]
  },
  {
   "cell_type": "code",
   "execution_count": 11,
   "id": "08741748",
   "metadata": {},
   "outputs": [
    {
     "data": {
      "text/plain": [
       "Order ID            0.291678\n",
       "Product             0.291678\n",
       "Quantity Ordered    0.291678\n",
       "Price Each          0.291678\n",
       "Order Date          0.291678\n",
       "Purchase Address    0.291678\n",
       "dtype: float64"
      ]
     },
     "execution_count": 11,
     "metadata": {},
     "output_type": "execute_result"
    }
   ],
   "source": [
    "# Calculate the percentage of missing values in each column\n",
    "percent_missing = sales_data.isnull().sum() * 100 / len(sales_data)\n",
    "percent_missing"
   ]
  },
  {
   "cell_type": "markdown",
   "id": "7abe2a5f",
   "metadata": {},
   "source": [
    "- ideally: ask why data is missing? \n",
    "    - as we can see, the whole row is missing for 545 rows, its not like there is order_id but price is missing\n",
    "    - this means that there are no products being sold as the entire row is empty\n",
    "- 0.29% of data is missing, we assume there no products so we will remove them. "
   ]
  },
  {
   "cell_type": "markdown",
   "id": "9c0a409c",
   "metadata": {},
   "source": [
    "#### Dropping Missing Values "
   ]
  },
  {
   "cell_type": "code",
   "execution_count": 12,
   "id": "2ec9998e",
   "metadata": {},
   "outputs": [],
   "source": [
    "sales_data.dropna(inplace=True)"
   ]
  },
  {
   "cell_type": "markdown",
   "id": "91e4b545",
   "metadata": {},
   "source": [
    "#### Duplicated values"
   ]
  },
  {
   "cell_type": "code",
   "execution_count": 13,
   "id": "fc4cb9a2",
   "metadata": {},
   "outputs": [
    {
     "data": {
      "text/html": [
       "<div>\n",
       "<style scoped>\n",
       "    .dataframe tbody tr th:only-of-type {\n",
       "        vertical-align: middle;\n",
       "    }\n",
       "\n",
       "    .dataframe tbody tr th {\n",
       "        vertical-align: top;\n",
       "    }\n",
       "\n",
       "    .dataframe thead th {\n",
       "        text-align: right;\n",
       "    }\n",
       "</style>\n",
       "<table border=\"1\" class=\"dataframe\">\n",
       "  <thead>\n",
       "    <tr style=\"text-align: right;\">\n",
       "      <th></th>\n",
       "      <th>Order ID</th>\n",
       "      <th>Product</th>\n",
       "      <th>Quantity Ordered</th>\n",
       "      <th>Price Each</th>\n",
       "      <th>Order Date</th>\n",
       "      <th>Purchase Address</th>\n",
       "    </tr>\n",
       "  </thead>\n",
       "  <tbody>\n",
       "    <tr>\n",
       "      <th>440</th>\n",
       "      <td>296081</td>\n",
       "      <td>Flatscreen TV</td>\n",
       "      <td>1</td>\n",
       "      <td>300</td>\n",
       "      <td>12/30/19 16:52</td>\n",
       "      <td>970 Sunset St, Austin, TX 73301</td>\n",
       "    </tr>\n",
       "    <tr>\n",
       "      <th>705</th>\n",
       "      <td>Order ID</td>\n",
       "      <td>Product</td>\n",
       "      <td>Quantity Ordered</td>\n",
       "      <td>Price Each</td>\n",
       "      <td>Order Date</td>\n",
       "      <td>Purchase Address</td>\n",
       "    </tr>\n",
       "    <tr>\n",
       "      <th>1101</th>\n",
       "      <td>Order ID</td>\n",
       "      <td>Product</td>\n",
       "      <td>Quantity Ordered</td>\n",
       "      <td>Price Each</td>\n",
       "      <td>Order Date</td>\n",
       "      <td>Purchase Address</td>\n",
       "    </tr>\n",
       "    <tr>\n",
       "      <th>1735</th>\n",
       "      <td>297311</td>\n",
       "      <td>Bose SoundSport Headphones</td>\n",
       "      <td>1</td>\n",
       "      <td>99.99</td>\n",
       "      <td>12/07/19 07:30</td>\n",
       "      <td>858 Willow St, Los Angeles, CA 90001</td>\n",
       "    </tr>\n",
       "    <tr>\n",
       "      <th>2822</th>\n",
       "      <td>298358</td>\n",
       "      <td>Apple Airpods Headphones</td>\n",
       "      <td>1</td>\n",
       "      <td>150</td>\n",
       "      <td>12/04/19 15:57</td>\n",
       "      <td>482 8th St, San Francisco, CA 94016</td>\n",
       "    </tr>\n",
       "    <tr>\n",
       "      <th>...</th>\n",
       "      <td>...</td>\n",
       "      <td>...</td>\n",
       "      <td>...</td>\n",
       "      <td>...</td>\n",
       "      <td>...</td>\n",
       "      <td>...</td>\n",
       "    </tr>\n",
       "    <tr>\n",
       "      <th>184211</th>\n",
       "      <td>220392</td>\n",
       "      <td>Lightning Charging Cable</td>\n",
       "      <td>1</td>\n",
       "      <td>14.95</td>\n",
       "      <td>06/08/19 17:13</td>\n",
       "      <td>472 8th St, Portland, ME 04101</td>\n",
       "    </tr>\n",
       "    <tr>\n",
       "      <th>184275</th>\n",
       "      <td>Order ID</td>\n",
       "      <td>Product</td>\n",
       "      <td>Quantity Ordered</td>\n",
       "      <td>Price Each</td>\n",
       "      <td>Order Date</td>\n",
       "      <td>Purchase Address</td>\n",
       "    </tr>\n",
       "    <tr>\n",
       "      <th>184715</th>\n",
       "      <td>220882</td>\n",
       "      <td>Lightning Charging Cable</td>\n",
       "      <td>1</td>\n",
       "      <td>14.95</td>\n",
       "      <td>06/13/19 17:53</td>\n",
       "      <td>588 Lake St, Boston, MA 02215</td>\n",
       "    </tr>\n",
       "    <tr>\n",
       "      <th>185584</th>\n",
       "      <td>221711</td>\n",
       "      <td>Bose SoundSport Headphones</td>\n",
       "      <td>1</td>\n",
       "      <td>99.99</td>\n",
       "      <td>06/15/19 16:36</td>\n",
       "      <td>139 West St, New York City, NY 10001</td>\n",
       "    </tr>\n",
       "    <tr>\n",
       "      <th>186532</th>\n",
       "      <td>Order ID</td>\n",
       "      <td>Product</td>\n",
       "      <td>Quantity Ordered</td>\n",
       "      <td>Price Each</td>\n",
       "      <td>Order Date</td>\n",
       "      <td>Purchase Address</td>\n",
       "    </tr>\n",
       "  </tbody>\n",
       "</table>\n",
       "<p>618 rows × 6 columns</p>\n",
       "</div>"
      ],
      "text/plain": [
       "        Order ID                     Product  Quantity Ordered  Price Each  \\\n",
       "440       296081               Flatscreen TV                 1         300   \n",
       "705     Order ID                     Product  Quantity Ordered  Price Each   \n",
       "1101    Order ID                     Product  Quantity Ordered  Price Each   \n",
       "1735      297311  Bose SoundSport Headphones                 1       99.99   \n",
       "2822      298358    Apple Airpods Headphones                 1         150   \n",
       "...          ...                         ...               ...         ...   \n",
       "184211    220392    Lightning Charging Cable                 1       14.95   \n",
       "184275  Order ID                     Product  Quantity Ordered  Price Each   \n",
       "184715    220882    Lightning Charging Cable                 1       14.95   \n",
       "185584    221711  Bose SoundSport Headphones                 1       99.99   \n",
       "186532  Order ID                     Product  Quantity Ordered  Price Each   \n",
       "\n",
       "            Order Date                      Purchase Address  \n",
       "440     12/30/19 16:52       970 Sunset St, Austin, TX 73301  \n",
       "705         Order Date                      Purchase Address  \n",
       "1101        Order Date                      Purchase Address  \n",
       "1735    12/07/19 07:30  858 Willow St, Los Angeles, CA 90001  \n",
       "2822    12/04/19 15:57   482 8th St, San Francisco, CA 94016  \n",
       "...                ...                                   ...  \n",
       "184211  06/08/19 17:13        472 8th St, Portland, ME 04101  \n",
       "184275      Order Date                      Purchase Address  \n",
       "184715  06/13/19 17:53         588 Lake St, Boston, MA 02215  \n",
       "185584  06/15/19 16:36  139 West St, New York City, NY 10001  \n",
       "186532      Order Date                      Purchase Address  \n",
       "\n",
       "[618 rows x 6 columns]"
      ]
     },
     "execution_count": 13,
     "metadata": {},
     "output_type": "execute_result"
    }
   ],
   "source": [
    "duplicates = sales_data[sales_data.duplicated()]\n",
    "duplicates"
   ]
  },
  {
   "cell_type": "markdown",
   "id": "991dd924",
   "metadata": {},
   "source": [
    "- there seems to be rows with column names as values"
   ]
  },
  {
   "cell_type": "markdown",
   "id": "de8f6fd0",
   "metadata": {},
   "source": [
    "#### Remove rows with column names as values"
   ]
  },
  {
   "cell_type": "code",
   "execution_count": 14,
   "id": "d2a68d68",
   "metadata": {},
   "outputs": [],
   "source": [
    "sales_data = sales_data[~sales_data.apply(lambda x: any(x == sales_data.columns), axis=1)]"
   ]
  },
  {
   "cell_type": "code",
   "execution_count": 15,
   "id": "09b94a18",
   "metadata": {},
   "outputs": [
    {
     "data": {
      "text/html": [
       "<div>\n",
       "<style scoped>\n",
       "    .dataframe tbody tr th:only-of-type {\n",
       "        vertical-align: middle;\n",
       "    }\n",
       "\n",
       "    .dataframe tbody tr th {\n",
       "        vertical-align: top;\n",
       "    }\n",
       "\n",
       "    .dataframe thead th {\n",
       "        text-align: right;\n",
       "    }\n",
       "</style>\n",
       "<table border=\"1\" class=\"dataframe\">\n",
       "  <thead>\n",
       "    <tr style=\"text-align: right;\">\n",
       "      <th></th>\n",
       "      <th>Order ID</th>\n",
       "      <th>Product</th>\n",
       "      <th>Quantity Ordered</th>\n",
       "      <th>Price Each</th>\n",
       "      <th>Order Date</th>\n",
       "      <th>Purchase Address</th>\n",
       "    </tr>\n",
       "  </thead>\n",
       "  <tbody>\n",
       "    <tr>\n",
       "      <th>0</th>\n",
       "      <td>295665</td>\n",
       "      <td>Macbook Pro Laptop</td>\n",
       "      <td>1</td>\n",
       "      <td>1700</td>\n",
       "      <td>12/30/19 00:01</td>\n",
       "      <td>136 Church St, New York City, NY 10001</td>\n",
       "    </tr>\n",
       "    <tr>\n",
       "      <th>1</th>\n",
       "      <td>295666</td>\n",
       "      <td>LG Washing Machine</td>\n",
       "      <td>1</td>\n",
       "      <td>600.0</td>\n",
       "      <td>12/29/19 07:03</td>\n",
       "      <td>562 2nd St, New York City, NY 10001</td>\n",
       "    </tr>\n",
       "    <tr>\n",
       "      <th>2</th>\n",
       "      <td>295667</td>\n",
       "      <td>USB-C Charging Cable</td>\n",
       "      <td>1</td>\n",
       "      <td>11.95</td>\n",
       "      <td>12/12/19 18:21</td>\n",
       "      <td>277 Main St, New York City, NY 10001</td>\n",
       "    </tr>\n",
       "    <tr>\n",
       "      <th>3</th>\n",
       "      <td>295668</td>\n",
       "      <td>27in FHD Monitor</td>\n",
       "      <td>1</td>\n",
       "      <td>149.99</td>\n",
       "      <td>12/22/19 15:13</td>\n",
       "      <td>410 6th St, San Francisco, CA 94016</td>\n",
       "    </tr>\n",
       "    <tr>\n",
       "      <th>4</th>\n",
       "      <td>295669</td>\n",
       "      <td>USB-C Charging Cable</td>\n",
       "      <td>1</td>\n",
       "      <td>11.95</td>\n",
       "      <td>12/18/19 12:38</td>\n",
       "      <td>43 Hill St, Atlanta, GA 30301</td>\n",
       "    </tr>\n",
       "    <tr>\n",
       "      <th>...</th>\n",
       "      <td>...</td>\n",
       "      <td>...</td>\n",
       "      <td>...</td>\n",
       "      <td>...</td>\n",
       "      <td>...</td>\n",
       "      <td>...</td>\n",
       "    </tr>\n",
       "    <tr>\n",
       "      <th>186845</th>\n",
       "      <td>222905</td>\n",
       "      <td>AAA Batteries (4-pack)</td>\n",
       "      <td>1</td>\n",
       "      <td>2.99</td>\n",
       "      <td>06/07/19 19:02</td>\n",
       "      <td>795 Pine St, Boston, MA 02215</td>\n",
       "    </tr>\n",
       "    <tr>\n",
       "      <th>186846</th>\n",
       "      <td>222906</td>\n",
       "      <td>27in FHD Monitor</td>\n",
       "      <td>1</td>\n",
       "      <td>149.99</td>\n",
       "      <td>06/01/19 19:29</td>\n",
       "      <td>495 North St, New York City, NY 10001</td>\n",
       "    </tr>\n",
       "    <tr>\n",
       "      <th>186847</th>\n",
       "      <td>222907</td>\n",
       "      <td>USB-C Charging Cable</td>\n",
       "      <td>1</td>\n",
       "      <td>11.95</td>\n",
       "      <td>06/22/19 18:57</td>\n",
       "      <td>319 Ridge St, San Francisco, CA 94016</td>\n",
       "    </tr>\n",
       "    <tr>\n",
       "      <th>186848</th>\n",
       "      <td>222908</td>\n",
       "      <td>USB-C Charging Cable</td>\n",
       "      <td>1</td>\n",
       "      <td>11.95</td>\n",
       "      <td>06/26/19 18:35</td>\n",
       "      <td>916 Main St, San Francisco, CA 94016</td>\n",
       "    </tr>\n",
       "    <tr>\n",
       "      <th>186849</th>\n",
       "      <td>222909</td>\n",
       "      <td>AAA Batteries (4-pack)</td>\n",
       "      <td>1</td>\n",
       "      <td>2.99</td>\n",
       "      <td>06/25/19 14:33</td>\n",
       "      <td>209 11th St, Atlanta, GA 30301</td>\n",
       "    </tr>\n",
       "  </tbody>\n",
       "</table>\n",
       "<p>185950 rows × 6 columns</p>\n",
       "</div>"
      ],
      "text/plain": [
       "       Order ID                 Product Quantity Ordered Price Each  \\\n",
       "0        295665      Macbook Pro Laptop                1       1700   \n",
       "1        295666      LG Washing Machine                1      600.0   \n",
       "2        295667    USB-C Charging Cable                1      11.95   \n",
       "3        295668        27in FHD Monitor                1     149.99   \n",
       "4        295669    USB-C Charging Cable                1      11.95   \n",
       "...         ...                     ...              ...        ...   \n",
       "186845   222905  AAA Batteries (4-pack)                1       2.99   \n",
       "186846   222906        27in FHD Monitor                1     149.99   \n",
       "186847   222907    USB-C Charging Cable                1      11.95   \n",
       "186848   222908    USB-C Charging Cable                1      11.95   \n",
       "186849   222909  AAA Batteries (4-pack)                1       2.99   \n",
       "\n",
       "            Order Date                        Purchase Address  \n",
       "0       12/30/19 00:01  136 Church St, New York City, NY 10001  \n",
       "1       12/29/19 07:03     562 2nd St, New York City, NY 10001  \n",
       "2       12/12/19 18:21    277 Main St, New York City, NY 10001  \n",
       "3       12/22/19 15:13     410 6th St, San Francisco, CA 94016  \n",
       "4       12/18/19 12:38           43 Hill St, Atlanta, GA 30301  \n",
       "...                ...                                     ...  \n",
       "186845  06/07/19 19:02           795 Pine St, Boston, MA 02215  \n",
       "186846  06/01/19 19:29   495 North St, New York City, NY 10001  \n",
       "186847  06/22/19 18:57   319 Ridge St, San Francisco, CA 94016  \n",
       "186848  06/26/19 18:35    916 Main St, San Francisco, CA 94016  \n",
       "186849  06/25/19 14:33          209 11th St, Atlanta, GA 30301  \n",
       "\n",
       "[185950 rows x 6 columns]"
      ]
     },
     "execution_count": 15,
     "metadata": {},
     "output_type": "execute_result"
    }
   ],
   "source": [
    "sales_data"
   ]
  },
  {
   "cell_type": "markdown",
   "id": "5663df62",
   "metadata": {},
   "source": [
    "#### Check For Duplicates Again"
   ]
  },
  {
   "cell_type": "code",
   "execution_count": 16,
   "id": "746c438a",
   "metadata": {},
   "outputs": [
    {
     "data": {
      "text/html": [
       "<div>\n",
       "<style scoped>\n",
       "    .dataframe tbody tr th:only-of-type {\n",
       "        vertical-align: middle;\n",
       "    }\n",
       "\n",
       "    .dataframe tbody tr th {\n",
       "        vertical-align: top;\n",
       "    }\n",
       "\n",
       "    .dataframe thead th {\n",
       "        text-align: right;\n",
       "    }\n",
       "</style>\n",
       "<table border=\"1\" class=\"dataframe\">\n",
       "  <thead>\n",
       "    <tr style=\"text-align: right;\">\n",
       "      <th></th>\n",
       "      <th>Order ID</th>\n",
       "      <th>Product</th>\n",
       "      <th>Quantity Ordered</th>\n",
       "      <th>Price Each</th>\n",
       "      <th>Order Date</th>\n",
       "      <th>Purchase Address</th>\n",
       "    </tr>\n",
       "  </thead>\n",
       "  <tbody>\n",
       "    <tr>\n",
       "      <th>440</th>\n",
       "      <td>296081</td>\n",
       "      <td>Flatscreen TV</td>\n",
       "      <td>1</td>\n",
       "      <td>300</td>\n",
       "      <td>12/30/19 16:52</td>\n",
       "      <td>970 Sunset St, Austin, TX 73301</td>\n",
       "    </tr>\n",
       "    <tr>\n",
       "      <th>1735</th>\n",
       "      <td>297311</td>\n",
       "      <td>Bose SoundSport Headphones</td>\n",
       "      <td>1</td>\n",
       "      <td>99.99</td>\n",
       "      <td>12/07/19 07:30</td>\n",
       "      <td>858 Willow St, Los Angeles, CA 90001</td>\n",
       "    </tr>\n",
       "    <tr>\n",
       "      <th>2822</th>\n",
       "      <td>298358</td>\n",
       "      <td>Apple Airpods Headphones</td>\n",
       "      <td>1</td>\n",
       "      <td>150</td>\n",
       "      <td>12/04/19 15:57</td>\n",
       "      <td>482 8th St, San Francisco, CA 94016</td>\n",
       "    </tr>\n",
       "    <tr>\n",
       "      <th>3131</th>\n",
       "      <td>298657</td>\n",
       "      <td>Lightning Charging Cable</td>\n",
       "      <td>1</td>\n",
       "      <td>14.95</td>\n",
       "      <td>12/01/19 18:22</td>\n",
       "      <td>428 12th St, Atlanta, GA 30301</td>\n",
       "    </tr>\n",
       "    <tr>\n",
       "      <th>3377</th>\n",
       "      <td>298883</td>\n",
       "      <td>Wired Headphones</td>\n",
       "      <td>1</td>\n",
       "      <td>11.99</td>\n",
       "      <td>12/28/19 18:07</td>\n",
       "      <td>516 Willow St, Los Angeles, CA 90001</td>\n",
       "    </tr>\n",
       "    <tr>\n",
       "      <th>...</th>\n",
       "      <td>...</td>\n",
       "      <td>...</td>\n",
       "      <td>...</td>\n",
       "      <td>...</td>\n",
       "      <td>...</td>\n",
       "      <td>...</td>\n",
       "    </tr>\n",
       "    <tr>\n",
       "      <th>182495</th>\n",
       "      <td>218756</td>\n",
       "      <td>AAA Batteries (4-pack)</td>\n",
       "      <td>1</td>\n",
       "      <td>2.99</td>\n",
       "      <td>06/11/19 14:54</td>\n",
       "      <td>362 Hickory St, Boston, MA 02215</td>\n",
       "    </tr>\n",
       "    <tr>\n",
       "      <th>182766</th>\n",
       "      <td>219007</td>\n",
       "      <td>AA Batteries (4-pack)</td>\n",
       "      <td>1</td>\n",
       "      <td>3.84</td>\n",
       "      <td>06/24/19 11:16</td>\n",
       "      <td>42 8th St, Los Angeles, CA 90001</td>\n",
       "    </tr>\n",
       "    <tr>\n",
       "      <th>184211</th>\n",
       "      <td>220392</td>\n",
       "      <td>Lightning Charging Cable</td>\n",
       "      <td>1</td>\n",
       "      <td>14.95</td>\n",
       "      <td>06/08/19 17:13</td>\n",
       "      <td>472 8th St, Portland, ME 04101</td>\n",
       "    </tr>\n",
       "    <tr>\n",
       "      <th>184715</th>\n",
       "      <td>220882</td>\n",
       "      <td>Lightning Charging Cable</td>\n",
       "      <td>1</td>\n",
       "      <td>14.95</td>\n",
       "      <td>06/13/19 17:53</td>\n",
       "      <td>588 Lake St, Boston, MA 02215</td>\n",
       "    </tr>\n",
       "    <tr>\n",
       "      <th>185584</th>\n",
       "      <td>221711</td>\n",
       "      <td>Bose SoundSport Headphones</td>\n",
       "      <td>1</td>\n",
       "      <td>99.99</td>\n",
       "      <td>06/15/19 16:36</td>\n",
       "      <td>139 West St, New York City, NY 10001</td>\n",
       "    </tr>\n",
       "  </tbody>\n",
       "</table>\n",
       "<p>264 rows × 6 columns</p>\n",
       "</div>"
      ],
      "text/plain": [
       "       Order ID                     Product Quantity Ordered Price Each  \\\n",
       "440      296081               Flatscreen TV                1        300   \n",
       "1735     297311  Bose SoundSport Headphones                1      99.99   \n",
       "2822     298358    Apple Airpods Headphones                1        150   \n",
       "3131     298657    Lightning Charging Cable                1      14.95   \n",
       "3377     298883            Wired Headphones                1      11.99   \n",
       "...         ...                         ...              ...        ...   \n",
       "182495   218756      AAA Batteries (4-pack)                1       2.99   \n",
       "182766   219007       AA Batteries (4-pack)                1       3.84   \n",
       "184211   220392    Lightning Charging Cable                1      14.95   \n",
       "184715   220882    Lightning Charging Cable                1      14.95   \n",
       "185584   221711  Bose SoundSport Headphones                1      99.99   \n",
       "\n",
       "            Order Date                      Purchase Address  \n",
       "440     12/30/19 16:52       970 Sunset St, Austin, TX 73301  \n",
       "1735    12/07/19 07:30  858 Willow St, Los Angeles, CA 90001  \n",
       "2822    12/04/19 15:57   482 8th St, San Francisco, CA 94016  \n",
       "3131    12/01/19 18:22        428 12th St, Atlanta, GA 30301  \n",
       "3377    12/28/19 18:07  516 Willow St, Los Angeles, CA 90001  \n",
       "...                ...                                   ...  \n",
       "182495  06/11/19 14:54      362 Hickory St, Boston, MA 02215  \n",
       "182766  06/24/19 11:16      42 8th St, Los Angeles, CA 90001  \n",
       "184211  06/08/19 17:13        472 8th St, Portland, ME 04101  \n",
       "184715  06/13/19 17:53         588 Lake St, Boston, MA 02215  \n",
       "185584  06/15/19 16:36  139 West St, New York City, NY 10001  \n",
       "\n",
       "[264 rows x 6 columns]"
      ]
     },
     "execution_count": 16,
     "metadata": {},
     "output_type": "execute_result"
    }
   ],
   "source": [
    "duplicates = sales_data[sales_data.duplicated()]\n",
    "duplicates"
   ]
  },
  {
   "cell_type": "markdown",
   "id": "bd867004",
   "metadata": {},
   "source": [
    "##### Duplicated Dropped From 618 -> 264\n",
    "    - lets analyze why are there 264 rows dups\n",
    "    - there seems to be no duplicaties, there seems to be different order_id for 264 rows"
   ]
  },
  {
   "cell_type": "code",
   "execution_count": 20,
   "id": "52992fb5",
   "metadata": {},
   "outputs": [
    {
     "data": {
      "text/plain": [
       "264"
      ]
     },
     "execution_count": 20,
     "metadata": {},
     "output_type": "execute_result"
    }
   ],
   "source": [
    "num_duplicates = sales_data.duplicated().sum()\n",
    "num_duplicates"
   ]
  },
  {
   "cell_type": "code",
   "execution_count": 18,
   "id": "fbd99e92",
   "metadata": {},
   "outputs": [
    {
     "data": {
      "text/html": [
       "<div>\n",
       "<style scoped>\n",
       "    .dataframe tbody tr th:only-of-type {\n",
       "        vertical-align: middle;\n",
       "    }\n",
       "\n",
       "    .dataframe tbody tr th {\n",
       "        vertical-align: top;\n",
       "    }\n",
       "\n",
       "    .dataframe thead th {\n",
       "        text-align: right;\n",
       "    }\n",
       "</style>\n",
       "<table border=\"1\" class=\"dataframe\">\n",
       "  <thead>\n",
       "    <tr style=\"text-align: right;\">\n",
       "      <th></th>\n",
       "      <th>Order ID</th>\n",
       "      <th>Product</th>\n",
       "      <th>Quantity Ordered</th>\n",
       "      <th>Price Each</th>\n",
       "      <th>Order Date</th>\n",
       "      <th>Purchase Address</th>\n",
       "    </tr>\n",
       "  </thead>\n",
       "  <tbody>\n",
       "    <tr>\n",
       "      <th>440</th>\n",
       "      <td>296081</td>\n",
       "      <td>Flatscreen TV</td>\n",
       "      <td>1</td>\n",
       "      <td>300</td>\n",
       "      <td>12/30/19 16:52</td>\n",
       "      <td>970 Sunset St, Austin, TX 73301</td>\n",
       "    </tr>\n",
       "    <tr>\n",
       "      <th>1735</th>\n",
       "      <td>297311</td>\n",
       "      <td>Bose SoundSport Headphones</td>\n",
       "      <td>1</td>\n",
       "      <td>99.99</td>\n",
       "      <td>12/07/19 07:30</td>\n",
       "      <td>858 Willow St, Los Angeles, CA 90001</td>\n",
       "    </tr>\n",
       "    <tr>\n",
       "      <th>2822</th>\n",
       "      <td>298358</td>\n",
       "      <td>Apple Airpods Headphones</td>\n",
       "      <td>1</td>\n",
       "      <td>150</td>\n",
       "      <td>12/04/19 15:57</td>\n",
       "      <td>482 8th St, San Francisco, CA 94016</td>\n",
       "    </tr>\n",
       "    <tr>\n",
       "      <th>3131</th>\n",
       "      <td>298657</td>\n",
       "      <td>Lightning Charging Cable</td>\n",
       "      <td>1</td>\n",
       "      <td>14.95</td>\n",
       "      <td>12/01/19 18:22</td>\n",
       "      <td>428 12th St, Atlanta, GA 30301</td>\n",
       "    </tr>\n",
       "    <tr>\n",
       "      <th>3377</th>\n",
       "      <td>298883</td>\n",
       "      <td>Wired Headphones</td>\n",
       "      <td>1</td>\n",
       "      <td>11.99</td>\n",
       "      <td>12/28/19 18:07</td>\n",
       "      <td>516 Willow St, Los Angeles, CA 90001</td>\n",
       "    </tr>\n",
       "  </tbody>\n",
       "</table>\n",
       "</div>"
      ],
      "text/plain": [
       "     Order ID                     Product Quantity Ordered Price Each  \\\n",
       "440    296081               Flatscreen TV                1        300   \n",
       "1735   297311  Bose SoundSport Headphones                1      99.99   \n",
       "2822   298358    Apple Airpods Headphones                1        150   \n",
       "3131   298657    Lightning Charging Cable                1      14.95   \n",
       "3377   298883            Wired Headphones                1      11.99   \n",
       "\n",
       "          Order Date                      Purchase Address  \n",
       "440   12/30/19 16:52       970 Sunset St, Austin, TX 73301  \n",
       "1735  12/07/19 07:30  858 Willow St, Los Angeles, CA 90001  \n",
       "2822  12/04/19 15:57   482 8th St, San Francisco, CA 94016  \n",
       "3131  12/01/19 18:22        428 12th St, Atlanta, GA 30301  \n",
       "3377  12/28/19 18:07  516 Willow St, Los Angeles, CA 90001  "
      ]
     },
     "execution_count": 18,
     "metadata": {},
     "output_type": "execute_result"
    }
   ],
   "source": [
    "duplicates = sales_data.duplicated()\n",
    "duplicated_rows = sales_data[duplicates]\n",
    "duplicated_rows.head(n=5)"
   ]
  },
  {
   "cell_type": "markdown",
   "id": "108b6e28",
   "metadata": {},
   "source": [
    "- The duplicates are not based on the Order ID alone. It seems that the combination of Order ID, Product, Quantity Ordered, Price Each, Order Date, and Purchase Address are considered duplicates.\n",
    "- Lets check if Order ID is duplicated since other variables can be the same. For example, purchase address can be same. "
   ]
  },
  {
   "cell_type": "markdown",
   "id": "f6276dd9",
   "metadata": {},
   "source": [
    "#### Check for Duplicate Order ID"
   ]
  },
  {
   "cell_type": "code",
   "execution_count": 21,
   "id": "c2421f3e",
   "metadata": {
    "scrolled": false
   },
   "outputs": [
    {
     "data": {
      "text/html": [
       "<div>\n",
       "<style scoped>\n",
       "    .dataframe tbody tr th:only-of-type {\n",
       "        vertical-align: middle;\n",
       "    }\n",
       "\n",
       "    .dataframe tbody tr th {\n",
       "        vertical-align: top;\n",
       "    }\n",
       "\n",
       "    .dataframe thead th {\n",
       "        text-align: right;\n",
       "    }\n",
       "</style>\n",
       "<table border=\"1\" class=\"dataframe\">\n",
       "  <thead>\n",
       "    <tr style=\"text-align: right;\">\n",
       "      <th></th>\n",
       "      <th>Order ID</th>\n",
       "      <th>Product</th>\n",
       "      <th>Quantity Ordered</th>\n",
       "      <th>Price Each</th>\n",
       "      <th>Order Date</th>\n",
       "      <th>Purchase Address</th>\n",
       "    </tr>\n",
       "  </thead>\n",
       "  <tbody>\n",
       "    <tr>\n",
       "      <th>16</th>\n",
       "      <td>295681</td>\n",
       "      <td>Google Phone</td>\n",
       "      <td>1</td>\n",
       "      <td>600</td>\n",
       "      <td>12/25/19 12:37</td>\n",
       "      <td>79 Elm St, Boston, MA 02215</td>\n",
       "    </tr>\n",
       "    <tr>\n",
       "      <th>17</th>\n",
       "      <td>295681</td>\n",
       "      <td>USB-C Charging Cable</td>\n",
       "      <td>1</td>\n",
       "      <td>11.95</td>\n",
       "      <td>12/25/19 12:37</td>\n",
       "      <td>79 Elm St, Boston, MA 02215</td>\n",
       "    </tr>\n",
       "    <tr>\n",
       "      <th>18</th>\n",
       "      <td>295681</td>\n",
       "      <td>Bose SoundSport Headphones</td>\n",
       "      <td>1</td>\n",
       "      <td>99.99</td>\n",
       "      <td>12/25/19 12:37</td>\n",
       "      <td>79 Elm St, Boston, MA 02215</td>\n",
       "    </tr>\n",
       "    <tr>\n",
       "      <th>19</th>\n",
       "      <td>295681</td>\n",
       "      <td>Wired Headphones</td>\n",
       "      <td>1</td>\n",
       "      <td>11.99</td>\n",
       "      <td>12/25/19 12:37</td>\n",
       "      <td>79 Elm St, Boston, MA 02215</td>\n",
       "    </tr>\n",
       "    <tr>\n",
       "      <th>36</th>\n",
       "      <td>295698</td>\n",
       "      <td>Vareebadd Phone</td>\n",
       "      <td>1</td>\n",
       "      <td>400</td>\n",
       "      <td>12/13/19 14:32</td>\n",
       "      <td>175 1st St, New York City, NY 10001</td>\n",
       "    </tr>\n",
       "    <tr>\n",
       "      <th>...</th>\n",
       "      <td>...</td>\n",
       "      <td>...</td>\n",
       "      <td>...</td>\n",
       "      <td>...</td>\n",
       "      <td>...</td>\n",
       "      <td>...</td>\n",
       "    </tr>\n",
       "    <tr>\n",
       "      <th>186820</th>\n",
       "      <td>222882</td>\n",
       "      <td>AA Batteries (4-pack)</td>\n",
       "      <td>1</td>\n",
       "      <td>3.84</td>\n",
       "      <td>06/18/19 11:37</td>\n",
       "      <td>990 Walnut St, Los Angeles, CA 90001</td>\n",
       "    </tr>\n",
       "    <tr>\n",
       "      <th>186822</th>\n",
       "      <td>222884</td>\n",
       "      <td>Google Phone</td>\n",
       "      <td>1</td>\n",
       "      <td>600</td>\n",
       "      <td>06/04/19 12:06</td>\n",
       "      <td>819 Pine St, New York City, NY 10001</td>\n",
       "    </tr>\n",
       "    <tr>\n",
       "      <th>186823</th>\n",
       "      <td>222884</td>\n",
       "      <td>USB-C Charging Cable</td>\n",
       "      <td>1</td>\n",
       "      <td>11.95</td>\n",
       "      <td>06/04/19 12:06</td>\n",
       "      <td>819 Pine St, New York City, NY 10001</td>\n",
       "    </tr>\n",
       "    <tr>\n",
       "      <th>186842</th>\n",
       "      <td>222903</td>\n",
       "      <td>iPhone</td>\n",
       "      <td>1</td>\n",
       "      <td>700</td>\n",
       "      <td>06/07/19 22:21</td>\n",
       "      <td>685 Hickory St, New York City, NY 10001</td>\n",
       "    </tr>\n",
       "    <tr>\n",
       "      <th>186843</th>\n",
       "      <td>222903</td>\n",
       "      <td>Lightning Charging Cable</td>\n",
       "      <td>1</td>\n",
       "      <td>14.95</td>\n",
       "      <td>06/07/19 22:21</td>\n",
       "      <td>685 Hickory St, New York City, NY 10001</td>\n",
       "    </tr>\n",
       "  </tbody>\n",
       "</table>\n",
       "<p>14649 rows × 6 columns</p>\n",
       "</div>"
      ],
      "text/plain": [
       "       Order ID                     Product Quantity Ordered Price Each  \\\n",
       "16       295681                Google Phone                1        600   \n",
       "17       295681        USB-C Charging Cable                1      11.95   \n",
       "18       295681  Bose SoundSport Headphones                1      99.99   \n",
       "19       295681            Wired Headphones                1      11.99   \n",
       "36       295698             Vareebadd Phone                1        400   \n",
       "...         ...                         ...              ...        ...   \n",
       "186820   222882       AA Batteries (4-pack)                1       3.84   \n",
       "186822   222884                Google Phone                1        600   \n",
       "186823   222884        USB-C Charging Cable                1      11.95   \n",
       "186842   222903                      iPhone                1        700   \n",
       "186843   222903    Lightning Charging Cable                1      14.95   \n",
       "\n",
       "            Order Date                         Purchase Address  \n",
       "16      12/25/19 12:37              79 Elm St, Boston, MA 02215  \n",
       "17      12/25/19 12:37              79 Elm St, Boston, MA 02215  \n",
       "18      12/25/19 12:37              79 Elm St, Boston, MA 02215  \n",
       "19      12/25/19 12:37              79 Elm St, Boston, MA 02215  \n",
       "36      12/13/19 14:32      175 1st St, New York City, NY 10001  \n",
       "...                ...                                      ...  \n",
       "186820  06/18/19 11:37     990 Walnut St, Los Angeles, CA 90001  \n",
       "186822  06/04/19 12:06     819 Pine St, New York City, NY 10001  \n",
       "186823  06/04/19 12:06     819 Pine St, New York City, NY 10001  \n",
       "186842  06/07/19 22:21  685 Hickory St, New York City, NY 10001  \n",
       "186843  06/07/19 22:21  685 Hickory St, New York City, NY 10001  \n",
       "\n",
       "[14649 rows x 6 columns]"
      ]
     },
     "execution_count": 21,
     "metadata": {},
     "output_type": "execute_result"
    }
   ],
   "source": [
    "sales_data[sales_data.duplicated(subset=['Order ID'], keep=False)]"
   ]
  },
  {
   "cell_type": "markdown",
   "id": "13402195",
   "metadata": {},
   "source": [
    "- There are duplicates for order ID in the sales_data dataset, it means that there are multiple products associated with the same order. This is a common scenario in ecommerce transactions where a customer can purchase multiple products in a single order. So this is pretty normal"
   ]
  },
  {
   "cell_type": "markdown",
   "id": "d1fb0855",
   "metadata": {},
   "source": [
    "#### Check Data Types"
   ]
  },
  {
   "cell_type": "code",
   "execution_count": 23,
   "id": "939c0e44",
   "metadata": {},
   "outputs": [
    {
     "data": {
      "text/plain": [
       "Order ID            object\n",
       "Product             object\n",
       "Quantity Ordered    object\n",
       "Price Each          object\n",
       "Order Date          object\n",
       "Purchase Address    object\n",
       "dtype: object"
      ]
     },
     "execution_count": 23,
     "metadata": {},
     "output_type": "execute_result"
    }
   ],
   "source": [
    "sales_data.dtypes"
   ]
  },
  {
   "cell_type": "markdown",
   "id": "c4b91aed",
   "metadata": {},
   "source": [
    "#### Convert Data Types"
   ]
  },
  {
   "cell_type": "code",
   "execution_count": 38,
   "id": "645843f8",
   "metadata": {},
   "outputs": [],
   "source": [
    "sales_data.loc[:, 'Order ID'] = pd.to_numeric(sales_data['Order ID'], errors='coerce').astype('Int64')\n",
    "sales_data.loc[:, 'Quantity Ordered'] = pd.to_numeric(sales_data['Quantity Ordered'], errors='coerce').astype('Int64')\n",
    "sales_data.loc[:, 'Price Each'] = pd.to_numeric(sales_data['Price Each'], errors='coerce')\n",
    "sales_data.loc[:, 'Order Date'] = pd.to_datetime(sales_data['Order Date'], format='%m/%d/%y %H:%M')"
   ]
  },
  {
   "cell_type": "code",
   "execution_count": 27,
   "id": "e9fb5e7a",
   "metadata": {},
   "outputs": [
    {
     "data": {
      "text/plain": [
       "Order ID                     Int64\n",
       "Product                     object\n",
       "Quantity Ordered             Int64\n",
       "Price Each                 float64\n",
       "Order Date          datetime64[ns]\n",
       "Purchase Address            object\n",
       "dtype: object"
      ]
     },
     "execution_count": 27,
     "metadata": {},
     "output_type": "execute_result"
    }
   ],
   "source": [
    "sales_data.dtypes"
   ]
  },
  {
   "cell_type": "markdown",
   "id": "64d5e63c",
   "metadata": {},
   "source": [
    "### Data is Cleaned. Time for Analysis."
   ]
  },
  {
   "cell_type": "markdown",
   "id": "327ef2a3",
   "metadata": {},
   "source": [
    "## Q1: What was the best Year for sales? How much was earned that Year?"
   ]
  },
  {
   "cell_type": "code",
   "execution_count": 29,
   "id": "f601d9fc",
   "metadata": {},
   "outputs": [
    {
     "data": {
      "text/plain": [
       "Index(['Order ID', 'Product', 'Quantity Ordered', 'Price Each', 'Order Date',\n",
       "       'Purchase Address'],\n",
       "      dtype='object')"
      ]
     },
     "execution_count": 29,
     "metadata": {},
     "output_type": "execute_result"
    }
   ],
   "source": [
    "sales_data.columns"
   ]
  },
  {
   "cell_type": "code",
   "execution_count": 39,
   "id": "02178666",
   "metadata": {},
   "outputs": [
    {
     "name": "stdout",
     "output_type": "stream",
     "text": [
      "The best year for sales was 2019 with earnings of $34,483,365.68\n"
     ]
    }
   ],
   "source": [
    "# create a new column called Sales\n",
    "sales_data['Sales'] = sales_data['Quantity Ordered'] * sales_data['Price Each']\n",
    "\n",
    "# group the data by year and sum up the sales for each year\n",
    "sales_by_year = sales_data.groupby(sales_data['Order Date'].dt.year)['Sales'].sum()\n",
    "\n",
    "# find the year with the highest sales and the earnings that year\n",
    "best_year = sales_by_year.idxmax()\n",
    "earnings = sales_by_year.loc[best_year]\n",
    "\n",
    "print(f\"The best year for sales was {best_year} with earnings of ${earnings:,.2f}\")\n"
   ]
  },
  {
   "cell_type": "markdown",
   "id": "3db63e2c",
   "metadata": {},
   "source": [
    "### Visualization"
   ]
  },
  {
   "cell_type": "code",
   "execution_count": 41,
   "id": "ad028174",
   "metadata": {},
   "outputs": [
    {
     "data": {
      "image/png": "[encoded data removed]",
      "text/plain": [
       "<Figure size 720x360 with 1 Axes>"
      ]
     },
     "metadata": {},
     "output_type": "display_data"
    }
   ],
   "source": [
    "# Create a new column for total sales\n",
    "sales_data['Total Sales'] = sales_data['Quantity Ordered'] * sales_data['Price Each']\n",
    "\n",
    "# Group the data by year and calculate the total sales\n",
    "sales_by_year = sales_data.groupby(sales_data['Order Date'].dt.year)['Total Sales'].sum()\n",
    "\n",
    "# Plot the total sales per year\n",
    "sns.set_style('darkgrid')\n",
    "plt.figure(figsize=(10,5))\n",
    "sns.barplot(x=sales_by_year.index, y=sales_by_year.values/1000)\n",
    "plt.xticks(rotation=45)\n",
    "plt.xlabel('Year')\n",
    "plt.ylabel('Total Sales (in thousands)')\n",
    "plt.title('Total Sales per Year')\n",
    "\n",
    "# Add the sales_by_year numbers on the plot\n",
    "for i, v in enumerate(sales_by_year.values):\n",
    "    plt.text(i, v/1000+1, f\"{int(v/1000):,}\", ha='center', fontsize=10)\n",
    "\n",
    "plt.show()\n"
   ]
  },
  {
   "cell_type": "markdown",
   "id": "aad59f6c",
   "metadata": {},
   "source": [
    "## Q2: What was the best month for sales? How much was earned that month?"
   ]
  },
  {
   "cell_type": "code",
   "execution_count": 60,
   "id": "c8452ed5",
   "metadata": {},
   "outputs": [
    {
     "name": "stdout",
     "output_type": "stream",
     "text": [
      "The best month for sales was December with total sales of $4,613,443.\n"
     ]
    }
   ],
   "source": [
    "# Convert Order Date column to datetime format\n",
    "sales_data['Order Date'] = pd.to_datetime(sales_data['Order Date'])\n",
    "\n",
    "# Create a new column for month\n",
    "sales_data['Month'] = sales_data['Order Date'].dt.month_name()\n",
    "\n",
    "# Calculate the total sales for each month\n",
    "sales_by_month = sales_data.groupby('Month')['Total Sales'].sum()\n",
    "\n",
    "# Find the month with the highest total sales\n",
    "best_month = sales_by_month.idxmax()\n",
    "total_sales = sales_by_month.max()\n",
    "\n",
    "print(f'The best month for sales was {best_month} with total sales of ${total_sales:,.0f}.')\n"
   ]
  },
  {
   "cell_type": "markdown",
   "id": "e773b7f7",
   "metadata": {},
   "source": [
    "### Visualization"
   ]
  },
  {
   "cell_type": "code",
   "execution_count": 59,
   "id": "7eda0712",
   "metadata": {},
   "outputs": [
    {
     "data": {
      "image/png": "[encoded data removed]",
      "text/plain": [
       "<Figure size 720x360 with 1 Axes>"
      ]
     },
     "metadata": {},
     "output_type": "display_data"
    }
   ],
   "source": [
    "# Define the order of the months\n",
    "month_order = ['January', 'February', 'March', 'April', 'May', 'June',\n",
    "               'July', 'August', 'September', 'October', 'November', 'December']\n",
    "\n",
    "# Reorder the months\n",
    "sales_by_month = sales_by_month.reindex(pd.Categorical(sales_by_month.index, categories=month_order))\n",
    "\n",
    "sns.set_style('darkgrid')\n",
    "plt.figure(figsize=(10,5))\n",
    "ax = sns.barplot(x=sales_by_month.index, y=sales_by_month.values/1000)\n",
    "plt.xticks(rotation=45)\n",
    "plt.xlabel('Month')\n",
    "plt.ylabel('Total Sales (in thousands)')\n",
    "plt.title('Total Sales per Month')\n",
    "\n",
    "# Add value labels to the bars\n",
    "for p in ax.patches:\n",
    "    ax.text(p.get_x() + p.get_width() / 2, p.get_height(), f'{p.get_height():,.0f}', ha='center', va='bottom', fontsize=10)\n",
    "\n",
    "plt.show()\n"
   ]
  },
  {
   "cell_type": "markdown",
   "id": "44e14580",
   "metadata": {},
   "source": [
    "## Q3: What City had the highest number of sales?"
   ]
  },
  {
   "cell_type": "code",
   "execution_count": 62,
   "id": "48b8c267",
   "metadata": {},
   "outputs": [
    {
     "name": "stdout",
     "output_type": "stream",
     "text": [
      "The city with the highest sales was San Francisco with total sales of $8,262,204.\n"
     ]
    }
   ],
   "source": [
    "# Create a new column for City by splitting the Purchase Address column on the comma and extracting the city name\n",
    "sales_data['City'] = sales_data['Purchase Address'].apply(lambda x: x.split(',')[1].strip())\n",
    "\n",
    "# Group the data by city and calculate the total sales\n",
    "sales_by_city = sales_data.groupby('City')['Total Sales'].sum()\n",
    "\n",
    "# Find the city with the highest total sales\n",
    "best_city = sales_by_city.idxmax()\n",
    "total_sales = sales_by_city.max()\n",
    "\n",
    "# Print the results\n",
    "print(f'The city with the highest sales was {best_city} with total sales of ${total_sales:,.0f}.')"
   ]
  },
  {
   "cell_type": "markdown",
   "id": "c50ab93b",
   "metadata": {},
   "source": [
    "### Visualization"
   ]
  },
  {
   "cell_type": "code",
   "execution_count": 64,
   "id": "68c1752d",
   "metadata": {},
   "outputs": [
    {
     "data": {
      "image/png": "[encoded data removed]",
      "text/plain": [
       "<Figure size 720x360 with 1 Axes>"
      ]
     },
     "metadata": {},
     "output_type": "display_data"
    }
   ],
   "source": [
    "# Sort the cities by total sales\n",
    "sales_by_city = sales_by_city.sort_values(ascending=False)\n",
    "\n",
    "# Plot the bar chart\n",
    "sns.set_style('darkgrid')\n",
    "plt.figure(figsize=(10,5))\n",
    "sns.barplot(x=sales_by_city.index, y=sales_by_city.values/1000)\n",
    "plt.xticks(rotation=45)\n",
    "plt.xlabel('City')\n",
    "plt.ylabel('Total Sales (in thousands)')\n",
    "plt.title('Total Sales per City')\n",
    "\n",
    "# Add the sales values to the top of each bar\n",
    "for i, v in enumerate(sales_by_city.values/1000):\n",
    "    plt.annotate(str(round(v,2)), xy=(i, v), ha='center', va='bottom', fontsize=10)\n",
    "\n",
    "plt.show()"
   ]
  },
  {
   "cell_type": "markdown",
   "id": "dfa0ead0",
   "metadata": {},
   "source": [
    "## Q4: What time should we display adverstisement to maximize likelihood of customer's buying product?"
   ]
  },
  {
   "cell_type": "code",
   "execution_count": 66,
   "id": "10e340d9",
   "metadata": {},
   "outputs": [
    {
     "name": "stdout",
     "output_type": "stream",
     "text": [
      "The best hour for sales is 19:00 with total sales of $2,412,939.\n"
     ]
    }
   ],
   "source": [
    "# Convert Order Date column to datetime format\n",
    "sales_data['Order Date'] = pd.to_datetime(sales_data['Order Date'])\n",
    "\n",
    "# Extract the hour from the order time\n",
    "sales_data['Order Hour'] = sales_data['Order Date'].dt.hour\n",
    "\n",
    "# Group the data by hour and calculate the total sales\n",
    "sales_by_hour = sales_data.groupby('Order Hour')['Total Sales'].sum()\n",
    "\n",
    "# Find the hour with the highest total sales\n",
    "best_hour = sales_by_hour.idxmax()\n",
    "total_sales = sales_by_hour.max()\n",
    "\n",
    "print(f\"The best hour for sales is {best_hour}:00 with total sales of ${total_sales:,.0f}.\")"
   ]
  },
  {
   "cell_type": "markdown",
   "id": "891d84a4",
   "metadata": {},
   "source": [
    "### Visualization"
   ]
  },
  {
   "cell_type": "code",
   "execution_count": 74,
   "id": "e837fd3f",
   "metadata": {},
   "outputs": [
    {
     "data": {
      "text/plain": [
       "Text(0.5, 1.0, 'Total Sales by Hour')"
      ]
     },
     "execution_count": 74,
     "metadata": {},
     "output_type": "execute_result"
    },
    {
     "data": {
      "image/png": "[encoded data removed]",
      "text/plain": [
       "<Figure size 720x360 with 1 Axes>"
      ]
     },
     "metadata": {},
     "output_type": "display_data"
    }
   ],
   "source": [
    "# Create a bar plot of the sales by hour\n",
    "sns.set_style('darkgrid')\n",
    "plt.figure(figsize=(10,5))\n",
    "ax = sns.barplot(x=sales_by_hour.index, y=sales_by_hour.values/1000)\n",
    "plt.xticks(rotation=45)\n",
    "plt.xlabel('Hour')\n",
    "plt.ylabel('Total Sales (in thousands)')\n",
    "plt.title('Total Sales by Hour')\n"
   ]
  },
  {
   "cell_type": "markdown",
   "id": "742c9144",
   "metadata": {},
   "source": [
    "## Q5: What products are most often sold together?"
   ]
  },
  {
   "cell_type": "code",
   "execution_count": 75,
   "id": "8369f428",
   "metadata": {},
   "outputs": [
    {
     "name": "stdout",
     "output_type": "stream",
     "text": [
      "('iPhone', 'Lightning Charging Cable') 1005\n",
      "('Google Phone', 'USB-C Charging Cable') 987\n",
      "('iPhone', 'Wired Headphones') 447\n",
      "('Google Phone', 'Wired Headphones') 414\n",
      "('Vareebadd Phone', 'USB-C Charging Cable') 361\n",
      "('iPhone', 'Apple Airpods Headphones') 360\n",
      "('Google Phone', 'Bose SoundSport Headphones') 220\n",
      "('USB-C Charging Cable', 'Wired Headphones') 160\n",
      "('Vareebadd Phone', 'Wired Headphones') 143\n",
      "('Lightning Charging Cable', 'Wired Headphones') 92\n"
     ]
    }
   ],
   "source": [
    "from collections import Counter\n",
    "from itertools import combinations\n",
    "\n",
    "# Identify the orders with multiple products\n",
    "order_counts = sales_data['Order ID'].value_counts()\n",
    "multiple_products = order_counts[order_counts > 1].index\n",
    "\n",
    "# Create a list of the products sold together for each order\n",
    "product_lists = []\n",
    "for order in multiple_products:\n",
    "    products = sales_data.loc[sales_data['Order ID'] == order, 'Product'].tolist()\n",
    "    product_lists.append(products)\n",
    "\n",
    "# Count the frequency of the combinations of products\n",
    "product_counts = Counter()\n",
    "for products in product_lists:\n",
    "    product_counts.update(Counter(combinations(products, 2)))\n",
    "\n",
    "# Print the most commonly sold combinations of products\n",
    "for products, count in product_counts.most_common(10):\n",
    "    print(products, count)\n"
   ]
  },
  {
   "cell_type": "markdown",
   "id": "c427cb7d",
   "metadata": {},
   "source": [
    "### Visualization"
   ]
  },
  {
   "cell_type": "code",
   "execution_count": 76,
   "id": "4f32bb73",
   "metadata": {},
   "outputs": [
    {
     "data": {
      "image/png": "[encoded data removed]",
      "text/plain": [
       "<Figure size 576x432 with 1 Axes>"
      ]
     },
     "metadata": {},
     "output_type": "display_data"
    }
   ],
   "source": [
    "# Get the top 10 most commonly sold combinations of products\n",
    "top_combinations = product_counts.most_common(10)\n",
    "\n",
    "# Extract the product combinations and their counts\n",
    "product_combinations = [f\"{combo[0][0]} & {combo[0][1]}\" for combo in top_combinations]\n",
    "product_counts = [combo[1] for combo in top_combinations]\n",
    "\n",
    "# Create a horizontal bar chart\n",
    "fig, ax = plt.subplots(figsize=(8, 6))\n",
    "ax.barh(product_combinations, product_counts, color='purple')\n",
    "\n",
    "# Add axis labels and title\n",
    "ax.set_xlabel('Number of Orders')\n",
    "ax.set_ylabel('Product Combinations')\n",
    "ax.set_title('Most Commonly Sold Product Combinations')\n",
    "\n",
    "# Add the count values on top of the bars\n",
    "for i, v in enumerate(product_counts):\n",
    "    ax.text(v + 5, i, str(v), color='black', fontweight='bold')\n",
    "\n",
    "plt.show()"
   ]
  },
  {
   "cell_type": "markdown",
   "id": "df85c593",
   "metadata": {},
   "source": [
    "## Q6: What product sold the most? Why do you think it sold the most?"
   ]
  },
  {
   "cell_type": "code",
   "execution_count": 77,
   "id": "3ca8a77d",
   "metadata": {},
   "outputs": [
    {
     "name": "stdout",
     "output_type": "stream",
     "text": [
      "The most sold product is AAA Batteries (4-pack) with a total quantity sold of 31017.\n"
     ]
    }
   ],
   "source": [
    "# Group the sales data by product and sum up the quantity sold for each product\n",
    "product_sales = sales_data.groupby('Product')['Quantity Ordered'].sum().sort_values(ascending=False)\n",
    "\n",
    "# Print the product that sold the most and its total quantity sold\n",
    "most_sold_product = product_sales.index[0]\n",
    "most_sold_quantity = product_sales.iloc[0]\n",
    "print(f\"The most sold product is {most_sold_product} with a total quantity sold of {most_sold_quantity}.\")\n"
   ]
  },
  {
   "cell_type": "markdown",
   "id": "8e0029f9",
   "metadata": {},
   "source": [
    "- AAA Batteries were sold the most, some reasons may be that the item is in need of frequent repleacement, is priced low, and used widely in other technologies. "
   ]
  },
  {
   "cell_type": "markdown",
   "id": "db0c2e87",
   "metadata": {},
   "source": [
    "### Visualization"
   ]
  },
  {
   "cell_type": "code",
   "execution_count": 82,
   "id": "b8358aa2",
   "metadata": {},
   "outputs": [
    {
     "data": {
      "image/png": "[encoded data removed]",
      "text/plain": [
       "<Figure size 576x432 with 1 Axes>"
      ]
     },
     "metadata": {},
     "output_type": "display_data"
    }
   ],
   "source": [
    "# Create a horizontal bar chart of the top 10 products sold\n",
    "top_10_products = product_sales.head(10)\n",
    "fig, ax = plt.subplots(figsize=(8, 6))\n",
    "ax.barh(top_10_products.index, top_10_products.values, color='purple')\n",
    "ax.set_xlabel('Total Quantity Sold')\n",
    "ax.set_ylabel('Product')\n",
    "ax.set_title('Top 10 Products Sold')\n",
    "plt.show()"
   ]
  },
  {
   "cell_type": "markdown",
   "id": "8748f66f",
   "metadata": {},
   "source": [
    "## Probabilites\n",
    "## Q1: How much probability for next people will ordered USB-C Charging Cable?"
   ]
  },
  {
   "cell_type": "code",
   "execution_count": 83,
   "id": "55c73d24",
   "metadata": {},
   "outputs": [
    {
     "name": "stdout",
     "output_type": "stream",
     "text": [
      "The probability of the next person ordering a USB-C Charging Cable is 12.25%.\n"
     ]
    }
   ],
   "source": [
    "# Calculate the total number of orders\n",
    "total_orders = len(sales_data['Order ID'].unique())\n",
    "\n",
    "# Calculate the number of orders that include the USB-C Charging Cable\n",
    "usb_orders = len(sales_data[sales_data['Product'] == 'USB-C Charging Cable']['Order ID'].unique())\n",
    "\n",
    "# Calculate the probability of an order including the USB-C Charging Cable\n",
    "usb_probability = usb_orders / total_orders\n",
    "\n",
    "print(f\"The probability of the next person ordering a USB-C Charging Cable is {usb_probability:.2%}.\")\n"
   ]
  },
  {
   "cell_type": "markdown",
   "id": "f1bb651c",
   "metadata": {},
   "source": [
    "## Q2: How much probability for next people will ordered iPhone?"
   ]
  },
  {
   "cell_type": "code",
   "execution_count": 84,
   "id": "12bb1cf7",
   "metadata": {},
   "outputs": [
    {
     "name": "stdout",
     "output_type": "stream",
     "text": [
      "The probability of the next order being for an iPhone is 3.68%\n"
     ]
    }
   ],
   "source": [
    "iphone_orders = sales_data[sales_data['Product'] == 'iPhone']\n",
    "iphone_order_count = len(iphone_orders)\n",
    "total_order_count = len(sales_data)\n",
    "iphone_order_probability = iphone_order_count / total_order_count\n",
    "print(f\"The probability of the next order being for an iPhone is {iphone_order_probability:.2%}\")\n"
   ]
  },
  {
   "cell_type": "markdown",
   "id": "c5eff534",
   "metadata": {},
   "source": [
    "## Q3: How much probability for next people will ordered Google Phone?"
   ]
  },
  {
   "cell_type": "code",
   "execution_count": 86,
   "id": "00fe6f74",
   "metadata": {},
   "outputs": [
    {
     "name": "stdout",
     "output_type": "stream",
     "text": [
      "The probability of the next person ordering a Google Phone is 3.09%.\n"
     ]
    }
   ],
   "source": [
    "# Count the number of orders that included a Google Phone\n",
    "google_phone_orders = sales_data.loc[sales_data['Product'] == 'Google Phone', 'Order ID'].nunique()\n",
    "\n",
    "# Calculate the probability of the next person ordering a Google Phone\n",
    "probability_google_phone = google_phone_orders / total_orders\n",
    "\n",
    "print(f\"The probability of the next person ordering a Google Phone is {probability_google_phone:.2%}.\")"
   ]
  },
  {
   "cell_type": "markdown",
   "id": "b2704205",
   "metadata": {},
   "source": [
    "## Q4: How much probability other peoples will ordered Wired Headphones?"
   ]
  },
  {
   "cell_type": "code",
   "execution_count": 87,
   "id": "213d51cd",
   "metadata": {},
   "outputs": [
    {
     "name": "stdout",
     "output_type": "stream",
     "text": [
      "The probability of other people ordering Wired Headphones is 10.56%\n"
     ]
    }
   ],
   "source": [
    "wired_headphones_orders = sales_data[sales_data['Product'] == 'Wired Headphones']\n",
    "total_orders = len(sales_data['Order ID'].unique())\n",
    "wired_headphones_count = len(wired_headphones_orders['Order ID'].unique())\n",
    "probability = wired_headphones_count / total_orders\n",
    "print(f\"The probability of other people ordering Wired Headphones is {probability:.2%}\")"
   ]
  }
 ],
 "metadata": {
  "kernelspec": {
   "display_name": "Python 3 (ipykernel)",
   "language": "python",
   "name": "python3"
  },
  "language_info": {
   "codemirror_mode": {
    "name": "ipython",
    "version": 3
   },
   "file_extension": ".py",
   "mimetype": "text/x-python",
   "name": "python",
   "nbconvert_exporter": "python",
   "pygments_lexer": "ipython3",
   "version": "3.9.7"
  },
  "varInspector": {
   "cols": {
    "lenName": 16,
    "lenType": 16,
    "lenVar": 40
   },
   "kernels_config": {
    "python": {
     "delete_cmd_postfix": "",
     "delete_cmd_prefix": "del ",
     "library": "var_list.py",
     "varRefreshCmd": "print(var_dic_list())"
    },
    "r": {
     "delete_cmd_postfix": ") ",
     "delete_cmd_prefix": "rm(",
     "library": "var_list.r",
     "varRefreshCmd": "cat(var_dic_list()) "
    }
   },
   "types_to_exclude": [
    "module",
    "function",
    "builtin_function_or_method",
    "instance",
    "_Feature"
   ],
   "window_display": false
  }
 },
 "nbformat": 4,
 "nbformat_minor": 5
}
